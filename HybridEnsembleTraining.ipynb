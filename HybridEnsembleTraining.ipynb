{
 "cells": [
  {
   "cell_type": "code",
   "execution_count": null,
   "metadata": {},
   "outputs": [
    {
     "name": "stdout",
     "output_type": "stream",
     "text": [
      "d:\\Dev\\Gravitas-NLP\\Gravitas-NLP\n"
     ]
    },
    {
     "name": "stderr",
     "output_type": "stream",
     "text": [
      "Cloning into 'Gravitas-NLP'...\n",
      "d:\\Dev\\Gravitas-NLP\\.venv\\Lib\\site-packages\\IPython\\core\\magics\\osm.py:417: UserWarning: using dhist requires you to install the `pickleshare` library.\n",
      "  self.shell.db['dhist'] = compress_dhist(dhist)[-100:]\n"
     ]
    }
   ],
   "source": [
    "!git clone https://github.com/cher-liang/Gravitas-NLP\n",
    "%cd Gravitas-NLP"
   ]
  },
  {
   "cell_type": "code",
   "execution_count": null,
   "metadata": {},
   "outputs": [],
   "source": [
    "!pip install sentence-transformers"
   ]
  },
  {
   "cell_type": "code",
   "execution_count": null,
   "metadata": {},
   "outputs": [],
   "source": [
    "!git checkout restart"
   ]
  },
  {
   "cell_type": "code",
   "execution_count": null,
   "metadata": {},
   "outputs": [],
   "source": [
    "!7z x datasets.zip"
   ]
  },
  {
   "cell_type": "code",
   "execution_count": 1,
   "metadata": {},
   "outputs": [
    {
     "name": "stderr",
     "output_type": "stream",
     "text": [
      "d:\\Dev\\Gravitas-NLP\\EnsembleEncoder.py:9: TqdmExperimentalWarning: Using `tqdm.autonotebook.tqdm` in notebook mode. Use `tqdm.tqdm` instead to force console mode (e.g. in jupyter console)\n",
      "  from tqdm.autonotebook import tqdm, trange\n"
     ]
    }
   ],
   "source": [
    "import pandas as pd\n",
    "import numpy as np\n",
    "\n",
    "import torch\n",
    "from torch.utils.data import DataLoader\n",
    "\n",
    "from sklearn.model_selection import KFold\n",
    "from sklearn.model_selection import train_test_split\n",
    "\n",
    "import logging \n",
    "from typing import List, Dict \n",
    "from datetime import datetime\n",
    "import math\n",
    "from dataclasses import dataclass\n",
    "\n",
    "from EnsembleEncoder import EnsembleEncoder\n",
    "from CustomEvaluator import CECustomEvaluator\n",
    "# from DualCrossEncoder import CrossEncoder\n",
    "# from DualEvaluator import DCECustomEvaluator"
   ]
  },
  {
   "cell_type": "code",
   "execution_count": 2,
   "metadata": {},
   "outputs": [],
   "source": [
    "logging.basicConfig(\n",
    "    format=\"%(asctime)s - %(message)s\", datefmt=\"%Y-%m-%d %H:%M:%S\", level=logging.INFO, \n",
    ")\n",
    "logger = logging.getLogger(__name__)"
   ]
  },
  {
   "cell_type": "code",
   "execution_count": 3,
   "metadata": {},
   "outputs": [],
   "source": [
    "device = torch.device(\"cuda\" if torch.cuda.is_available() else \"cpu\")"
   ]
  },
  {
   "cell_type": "code",
   "execution_count": 4,
   "metadata": {},
   "outputs": [],
   "source": [
    "class GravitasData:\n",
    "    def __init__(self, row) -> None:\n",
    "        self.sentence_pair = (row[\"reference_answer\"],row[\"answer\"])\n",
    "        self.score = row[\"normalized_score\"]\n",
    "        self.dataset = row[\"source\"]\n",
    "    \n",
    "    def __str__(self) -> str:\n",
    "        string = \"Sentence Pair: {}\\n\".format(self.sentence_pair)\n",
    "        string += \"Score: {}\\t Dataset: {}\\n\".format(self.score,self.dataset)\n",
    "        return string\n"
   ]
  },
  {
   "cell_type": "code",
   "execution_count": 5,
   "metadata": {},
   "outputs": [],
   "source": [
    "@dataclass\n",
    "class DataFrameWrapper:\n",
    "    dataset_source: str\n",
    "    df: pd.DataFrame\n",
    "\n",
    "\n",
    "dataset_names = [\"asap_sas\", \"cunlp\", \"misc\", \"sag\", \"semeval\", \"stita\"]\n",
    "dataframes: List[DataFrameWrapper] = []\n",
    "for dataset_name in dataset_names:\n",
    "    dataframes.append(\n",
    "        DataFrameWrapper(\n",
    "            dataset_source=dataset_name,\n",
    "            df=pd.read_excel(f\"datasets/{dataset_name}.xlsx\"),\n",
    "        )\n",
    "    )\n"
   ]
  },
  {
   "cell_type": "code",
   "execution_count": 6,
   "metadata": {},
   "outputs": [],
   "source": [
    "datasets: Dict[str,List[GravitasData]]={}\n",
    "for dataframe in dataframes:\n",
    "    datasets[dataframe.dataset_source]=dataframe.df.apply(GravitasData, axis=1).tolist()"
   ]
  },
  {
   "cell_type": "code",
   "execution_count": 7,
   "metadata": {},
   "outputs": [],
   "source": [
    "# Test dataset for Semeval\n",
    "test_semeval_df = pd.read_excel(\"datasets/test/semeval_unseen_domains.xlsx\")\n",
    "dev_semeval_df1 = pd.read_excel(\"datasets/develop/semeval_unseen_answers.xlsx\")\n",
    "dev_semeval_df2 = pd.read_excel(\"datasets/develop/semeval_unseen_questions.xlsx\")\n",
    "\n",
    "test_semeval_dataset = test_semeval_df.apply(GravitasData, axis=1).tolist()\n",
    "dev_semeval_dataset = (\n",
    "    dev_semeval_df1.apply(GravitasData, axis=1).tolist()\n",
    "    + dev_semeval_df2.apply(GravitasData, axis=1).tolist()\n",
    ")"
   ]
  },
  {
   "cell_type": "code",
   "execution_count": 8,
   "metadata": {},
   "outputs": [],
   "source": [
    "dataset_names.remove(\"semeval\")"
   ]
  },
  {
   "cell_type": "code",
   "execution_count": 9,
   "metadata": {},
   "outputs": [],
   "source": [
    "train_batch_size = 16\n",
    "num_epochs = 10\n",
    "\n",
    "kf = KFold(n_splits=5, shuffle=True, random_state=42)"
   ]
  },
  {
   "cell_type": "code",
   "execution_count": 10,
   "metadata": {},
   "outputs": [
    {
     "name": "stderr",
     "output_type": "stream",
     "text": [
      "2024-02-20 17:24:55 - Use pytorch device: cuda\n"
     ]
    },
    {
     "data": {
      "application/vnd.jupyter.widget-view+json": {
       "model_id": "8f3f515650074c1cae46a9411e5dce75",
       "version_major": 2,
       "version_minor": 0
      },
      "text/plain": [
       "Epoch:   0%|          | 0/10 [00:00<?, ?it/s]"
      ]
     },
     "metadata": {},
     "output_type": "display_data"
    },
    {
     "data": {
      "application/vnd.jupyter.widget-view+json": {
       "model_id": "e99886c7081343efa73fb17ad2c9de5f",
       "version_major": 2,
       "version_minor": 0
      },
      "text/plain": [
       "Iteration:   0%|          | 0/1315 [00:00<?, ?it/s]"
      ]
     },
     "metadata": {},
     "output_type": "display_data"
    }
   ],
   "source": [
    "# 5 Fold Cross Validation with (60-20-20, Train-Develop-Test split)\n",
    "kfSplits = [\n",
    "    kf.split(dataset) for (key, dataset) in datasets.items() if key != \"semeval\"\n",
    "]\n",
    "for fold, indexes in enumerate(zip(*kfSplits)):\n",
    "    train_datasets_list, test_datasets_list, dev_datasets_list = (\n",
    "        [np.array(datasets[\"semeval\"])],\n",
    "        [np.array(test_semeval_dataset)],\n",
    "        [np.array(dev_semeval_dataset)],\n",
    "    )\n",
    "\n",
    "    # Split each datasets into train, develop, test except \"semeval\" dataset\n",
    "    for (train_test_index, dev_index), dataset_name in zip(indexes, dataset_names):\n",
    "        train_index, test_index = train_test_split(train_test_index, test_size=0.25, random_state=42)\n",
    "        train_datasets_list.append(np.take(datasets[dataset_name], train_index))\n",
    "        dev_datasets_list.append(np.take(datasets[dataset_name], dev_index))\n",
    "        test_datasets_list.append(np.take(datasets[dataset_name], test_index))\n",
    "\n",
    "    train_dataset = torch.utils.data.ConcatDataset(train_datasets_list)\n",
    "    dev_dataset = torch.utils.data.ConcatDataset(dev_datasets_list)\n",
    "    test_dataset = torch.utils.data.ConcatDataset(test_datasets_list)\n",
    "\n",
    "    model = EnsembleEncoder(\"models/sts_roberta.safetensors\",\"models/miniLM.safetensors\",\"models/gist.safetensors\")\n",
    "    model_save_path = f'output/training_ensemble_fold-{fold}-'+datetime.now().strftime(\"%Y-%m-%d_%H-%M-%S\")\n",
    "\n",
    "    train_dataloader = DataLoader(\n",
    "        dataset=train_dataset,\n",
    "        batch_size=train_batch_size,\n",
    "        shuffle=True,\n",
    "    )\n",
    "\n",
    "    evaluator = CECustomEvaluator.from_input_examples(dev_dataset, name=\"ensemble-dev\")\n",
    "\n",
    "    warmup_steps = math.ceil(\n",
    "        len(train_dataloader) * num_epochs * 0.1\n",
    "    )  # 10% of train data for warm-up\n",
    "\n",
    "    model.fit(\n",
    "        train_dataloader=train_dataloader,\n",
    "        freeze=True,\n",
    "        evaluator=evaluator,\n",
    "        epochs=num_epochs,\n",
    "        evaluation_steps=1000,\n",
    "        warmup_steps=warmup_steps,\n",
    "        output_path=model_save_path,\n",
    "        use_amp= True\n",
    "    )\n",
    "\n",
    "    test_evaluator = CECustomEvaluator.from_input_examples(\n",
    "        test_dataset, name=\"ensemble-test\"\n",
    "    )\n",
    "    test_evaluator(model, output_path=model_save_path)\n"
   ]
  }
 ],
 "metadata": {
  "kernelspec": {
   "display_name": ".venv",
   "language": "python",
   "name": "python3"
  },
  "language_info": {
   "codemirror_mode": {
    "name": "ipython",
    "version": 3
   },
   "file_extension": ".py",
   "mimetype": "text/x-python",
   "name": "python",
   "nbconvert_exporter": "python",
   "pygments_lexer": "ipython3",
   "version": "3.11.0"
  }
 },
 "nbformat": 4,
 "nbformat_minor": 2
}
