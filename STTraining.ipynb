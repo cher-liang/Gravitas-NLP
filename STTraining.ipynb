{
 "cells": [
  {
   "cell_type": "code",
   "execution_count": 1,
   "metadata": {},
   "outputs": [
    {
     "name": "stdout",
     "output_type": "stream",
     "text": [
      "d:\\Dev\\Gravitas-NLP\\Gravitas-NLP\n"
     ]
    },
    {
     "name": "stderr",
     "output_type": "stream",
     "text": [
      "Cloning into 'Gravitas-NLP'...\n"
     ]
    }
   ],
   "source": [
    "!git clone https://github.com/cher-liang/Gravitas-NLP\n",
    "%cd Gravitas-NLP"
   ]
  },
  {
   "cell_type": "code",
   "execution_count": 2,
   "metadata": {},
   "outputs": [
    {
     "name": "stdout",
     "output_type": "stream",
     "text": [
      "^C\n"
     ]
    }
   ],
   "source": [
    "!pip install sentence-transformers"
   ]
  },
  {
   "cell_type": "code",
   "execution_count": null,
   "metadata": {},
   "outputs": [],
   "source": [
    "!git checkout restart"
   ]
  },
  {
   "cell_type": "code",
   "execution_count": null,
   "metadata": {},
   "outputs": [],
   "source": [
    "!7z x datasets.zip"
   ]
  },
  {
   "cell_type": "code",
   "execution_count": 1,
   "metadata": {},
   "outputs": [],
   "source": [
    "import pandas as pd\n",
    "import numpy as np\n",
    "\n",
    "import torch\n",
    "from torch.utils.data import DataLoader\n",
    "\n",
    "from sklearn.model_selection import KFold\n",
    "from sklearn.model_selection import train_test_split\n",
    "\n",
    "import logging \n",
    "from dataclasses import dataclass\n",
    "from typing import List, Dict \n",
    "from datetime import datetime\n",
    "import math\n",
    "\n",
    "from sentence_transformers import SentenceTransformer, losses\n",
    "from sentence_transformers.evaluation import EmbeddingSimilarityEvaluator\n",
    "from CustomEvaluator import CECustomEvaluator"
   ]
  },
  {
   "cell_type": "code",
   "execution_count": 2,
   "metadata": {},
   "outputs": [],
   "source": [
    "logging.basicConfig(\n",
    "    format=\"%(asctime)s - %(message)s\", datefmt=\"%Y-%m-%d %H:%M:%S\", level=logging.INFO, \n",
    ")\n",
    "logger = logging.getLogger(__name__)"
   ]
  },
  {
   "cell_type": "code",
   "execution_count": 3,
   "metadata": {},
   "outputs": [],
   "source": [
    "device = torch.device(\"cuda\" if torch.cuda.is_available() else \"cpu\")"
   ]
  },
  {
   "cell_type": "code",
   "execution_count": 5,
   "metadata": {},
   "outputs": [],
   "source": [
    "class GravitasData:\n",
    "    def __init__(self, row) -> None:\n",
    "        self.texts = (row[\"reference_answer\"],row[\"answer\"])\n",
    "        self.label = row[\"normalized_score\"]\n",
    "        self.dataset = row[\"source\"]\n",
    "    \n",
    "    def __str__(self) -> str:\n",
    "        string = \"Sentence Pair: {}\\n\".format(self.sentence_pair)\n",
    "        string += \"Score: {}\\t Dataset: {}\\n\".format(self.score,self.dataset)\n",
    "        return string"
   ]
  },
  {
   "cell_type": "code",
   "execution_count": 6,
   "metadata": {},
   "outputs": [],
   "source": [
    "@dataclass\n",
    "class DataFrameWrapper:\n",
    "    dataset_source: str\n",
    "    df: pd.DataFrame\n",
    "\n",
    "dataset_names = [\"asap_sas\", \"cunlp\", \"misc\", \"sag\", \"semeval\", \"stita\"]\n",
    "dataframes: List[DataFrameWrapper] = []\n",
    "for dataset_name in dataset_names:\n",
    "    dataframes.append(\n",
    "        DataFrameWrapper(\n",
    "            dataset_source=dataset_name,\n",
    "            df=pd.read_excel(f\"datasets/{dataset_name}.xlsx\"),\n",
    "        )\n",
    "    )\n"
   ]
  },
  {
   "cell_type": "code",
   "execution_count": 7,
   "metadata": {},
   "outputs": [],
   "source": [
    "datasets: Dict[str,List[GravitasData]]={}\n",
    "for dataframe in dataframes:\n",
    "    datasets[dataframe.dataset_source]=dataframe.df.apply(GravitasData, axis=1).tolist()"
   ]
  },
  {
   "cell_type": "code",
   "execution_count": 8,
   "metadata": {},
   "outputs": [],
   "source": [
    "# Test dataset for Semeval\n",
    "test_semeval_df = pd.read_excel(\"datasets/test/semeval_unseen_domains.xlsx\")\n",
    "dev_semeval_df1 = pd.read_excel(\"datasets/develop/semeval_unseen_answers.xlsx\")\n",
    "dev_semeval_df2 = pd.read_excel(\"datasets/develop/semeval_unseen_questions.xlsx\")\n",
    "\n",
    "test_semeval_dataset = test_semeval_df.apply(GravitasData, axis=1).tolist()\n",
    "dev_semeval_dataset = (\n",
    "    dev_semeval_df1.apply(GravitasData, axis=1).tolist()\n",
    "    + dev_semeval_df2.apply(GravitasData, axis=1).tolist()\n",
    ")"
   ]
  },
  {
   "cell_type": "code",
   "execution_count": 9,
   "metadata": {},
   "outputs": [],
   "source": [
    "dataset_names.remove(\"semeval\")"
   ]
  },
  {
   "cell_type": "code",
   "execution_count": 2,
   "metadata": {},
   "outputs": [],
   "source": [
    "# model = SentenceTransformer(\"avsolatorio/GIST-Embedding-v0\")\n",
    "# model_save_path = f'output/gist'+datetime.now().strftime(\"%Y-%m-%d_%H-%M-%S\")\n",
    "# print(model.model.base_model)\n",
    "# print(model.model)"
   ]
  },
  {
   "cell_type": "code",
   "execution_count": 12,
   "metadata": {},
   "outputs": [],
   "source": [
    "train_batch_size=16\n",
    "num_epochs = 5"
   ]
  },
  {
   "cell_type": "code",
   "execution_count": null,
   "metadata": {},
   "outputs": [],
   "source": [
    "kf = KFold(n_splits=5, shuffle=True, random_state=42)"
   ]
  },
  {
   "cell_type": "code",
   "execution_count": 14,
   "metadata": {},
   "outputs": [
    {
     "name": "stderr",
     "output_type": "stream",
     "text": [
      "2024-02-05 00:43:30 - Evaluator: Evaluating the model on sts-test dataset:\n",
      "2024-02-05 00:51:02 - Correlation:\tPearson: 0.7096\tSpearman: 0.7120\n",
      "2024-02-05 00:51:02 - QWK: 0.7041\n",
      "2024-02-05 00:51:02 - Evaluator: Evaluating the model on sts-test dataset:\n"
     ]
    },
    {
     "ename": "KeyboardInterrupt",
     "evalue": "",
     "output_type": "error",
     "traceback": [
      "\u001b[1;31m---------------------------------------------------------------------------\u001b[0m",
      "\u001b[1;31mKeyboardInterrupt\u001b[0m                         Traceback (most recent call last)",
      "Cell \u001b[1;32mIn[14], line 44\u001b[0m\n\u001b[0;32m     36\u001b[0m \u001b[38;5;66;03m# model.fit(train_dataloader=train_dataloader,\u001b[39;00m\n\u001b[0;32m     37\u001b[0m \u001b[38;5;66;03m#         evaluator=evaluator,\u001b[39;00m\n\u001b[0;32m     38\u001b[0m \u001b[38;5;66;03m#         epochs=num_epochs,\u001b[39;00m\n\u001b[0;32m     39\u001b[0m \u001b[38;5;66;03m#         evaluation_steps=1000,\u001b[39;00m\n\u001b[0;32m     40\u001b[0m \u001b[38;5;66;03m#         warmup_steps=warmup_steps,\u001b[39;00m\n\u001b[0;32m     41\u001b[0m \u001b[38;5;66;03m#         output_path=model_save_path)\u001b[39;00m\n\u001b[0;32m     43\u001b[0m test_evaluator \u001b[38;5;241m=\u001b[39m  CECustomEvaluator\u001b[38;5;241m.\u001b[39mfrom_input_examples(test_dataset, name\u001b[38;5;241m=\u001b[39m\u001b[38;5;124m'\u001b[39m\u001b[38;5;124msts-test\u001b[39m\u001b[38;5;124m'\u001b[39m)\n\u001b[1;32m---> 44\u001b[0m \u001b[43mtest_evaluator\u001b[49m\u001b[43m(\u001b[49m\u001b[43mmodel\u001b[49m\u001b[43m,\u001b[49m\u001b[43m \u001b[49m\u001b[43moutput_path\u001b[49m\u001b[38;5;241;43m=\u001b[39;49m\u001b[43mmodel_save_path\u001b[49m\u001b[43m)\u001b[49m\n",
      "File \u001b[1;32md:\\Dev\\Gravitas-NLP\\CustomEvaluator.py:47\u001b[0m, in \u001b[0;36mCECustomEvaluator.__call__\u001b[1;34m(self, model, output_path, epoch, steps)\u001b[0m\n\u001b[0;32m     44\u001b[0m     out_txt \u001b[38;5;241m=\u001b[39m \u001b[38;5;124m\"\u001b[39m\u001b[38;5;124m:\u001b[39m\u001b[38;5;124m\"\u001b[39m\n\u001b[0;32m     46\u001b[0m logger\u001b[38;5;241m.\u001b[39minfo(\u001b[38;5;124m\"\u001b[39m\u001b[38;5;124mEvaluator: Evaluating the model on \u001b[39m\u001b[38;5;124m\"\u001b[39m \u001b[38;5;241m+\u001b[39m \u001b[38;5;28mself\u001b[39m\u001b[38;5;241m.\u001b[39mname \u001b[38;5;241m+\u001b[39m \u001b[38;5;124m\"\u001b[39m\u001b[38;5;124m dataset\u001b[39m\u001b[38;5;124m\"\u001b[39m \u001b[38;5;241m+\u001b[39m out_txt)\n\u001b[1;32m---> 47\u001b[0m pred_scores \u001b[38;5;241m=\u001b[39m \u001b[43mmodel\u001b[49m\u001b[38;5;241;43m.\u001b[39;49m\u001b[43mpredict\u001b[49m\u001b[43m(\u001b[49m\u001b[38;5;28;43mself\u001b[39;49m\u001b[38;5;241;43m.\u001b[39;49m\u001b[43msentence_pairs\u001b[49m\u001b[43m,\u001b[49m\u001b[43m \u001b[49m\u001b[43mconvert_to_numpy\u001b[49m\u001b[38;5;241;43m=\u001b[39;49m\u001b[38;5;28;43;01mTrue\u001b[39;49;00m\u001b[43m,\u001b[49m\u001b[43m \u001b[49m\u001b[43mshow_progress_bar\u001b[49m\u001b[38;5;241;43m=\u001b[39;49m\u001b[38;5;28;43;01mFalse\u001b[39;49;00m\u001b[43m)\u001b[49m\n\u001b[0;32m     50\u001b[0m eval_pearson, _ \u001b[38;5;241m=\u001b[39m pearsonr(\u001b[38;5;28mself\u001b[39m\u001b[38;5;241m.\u001b[39mscores, pred_scores)\n\u001b[0;32m     51\u001b[0m eval_spearman, _ \u001b[38;5;241m=\u001b[39m spearmanr(\u001b[38;5;28mself\u001b[39m\u001b[38;5;241m.\u001b[39mscores, pred_scores)\n",
      "File \u001b[1;32md:\\Dev\\Gravitas-NLP\\CustomCrossEncoder.py:380\u001b[0m, in \u001b[0;36mCrossEncoder.predict\u001b[1;34m(self, sentences, batch_size, show_progress_bar, num_workers, activation_fct, apply_softmax, convert_to_numpy, convert_to_tensor)\u001b[0m\n\u001b[0;32m    378\u001b[0m \u001b[38;5;28mself\u001b[39m\u001b[38;5;241m.\u001b[39mmodel\u001b[38;5;241m.\u001b[39mto(\u001b[38;5;28mself\u001b[39m\u001b[38;5;241m.\u001b[39m_target_device)\n\u001b[0;32m    379\u001b[0m \u001b[38;5;28;01mwith\u001b[39;00m torch\u001b[38;5;241m.\u001b[39mno_grad():\n\u001b[1;32m--> 380\u001b[0m \u001b[43m    \u001b[49m\u001b[38;5;28;43;01mfor\u001b[39;49;00m\u001b[43m \u001b[49m\u001b[43mfeatures\u001b[49m\u001b[43m \u001b[49m\u001b[38;5;129;43;01min\u001b[39;49;00m\u001b[43m \u001b[49m\u001b[43miterator\u001b[49m\u001b[43m:\u001b[49m\n\u001b[0;32m    381\u001b[0m \u001b[43m        \u001b[49m\u001b[43mmodel_predictions\u001b[49m\u001b[43m \u001b[49m\u001b[38;5;241;43m=\u001b[39;49m\u001b[43m \u001b[49m\u001b[38;5;28;43mself\u001b[39;49m\u001b[38;5;241;43m.\u001b[39;49m\u001b[43mmodel\u001b[49m\u001b[43m(\u001b[49m\u001b[38;5;241;43m*\u001b[39;49m\u001b[38;5;241;43m*\u001b[39;49m\u001b[43mfeatures\u001b[49m\u001b[43m,\u001b[49m\u001b[43m \u001b[49m\u001b[43mreturn_dict\u001b[49m\u001b[38;5;241;43m=\u001b[39;49m\u001b[38;5;28;43;01mTrue\u001b[39;49;00m\u001b[43m)\u001b[49m\n\u001b[0;32m    382\u001b[0m \u001b[43m        \u001b[49m\u001b[43mlogits\u001b[49m\u001b[43m \u001b[49m\u001b[38;5;241;43m=\u001b[39;49m\u001b[43m \u001b[49m\u001b[43mactivation_fct\u001b[49m\u001b[43m(\u001b[49m\u001b[43mmodel_predictions\u001b[49m\u001b[38;5;241;43m.\u001b[39;49m\u001b[43mlogits\u001b[49m\u001b[43m)\u001b[49m\n",
      "File \u001b[1;32md:\\Dev\\Gravitas-NLP\\.venv\\Lib\\site-packages\\torch\\utils\\data\\dataloader.py:630\u001b[0m, in \u001b[0;36m_BaseDataLoaderIter.__next__\u001b[1;34m(self)\u001b[0m\n\u001b[0;32m    627\u001b[0m \u001b[38;5;28;01mif\u001b[39;00m \u001b[38;5;28mself\u001b[39m\u001b[38;5;241m.\u001b[39m_sampler_iter \u001b[38;5;129;01mis\u001b[39;00m \u001b[38;5;28;01mNone\u001b[39;00m:\n\u001b[0;32m    628\u001b[0m     \u001b[38;5;66;03m# TODO(https://github.com/pytorch/pytorch/issues/76750)\u001b[39;00m\n\u001b[0;32m    629\u001b[0m     \u001b[38;5;28mself\u001b[39m\u001b[38;5;241m.\u001b[39m_reset()  \u001b[38;5;66;03m# type: ignore[call-arg]\u001b[39;00m\n\u001b[1;32m--> 630\u001b[0m data \u001b[38;5;241m=\u001b[39m \u001b[38;5;28;43mself\u001b[39;49m\u001b[38;5;241;43m.\u001b[39;49m\u001b[43m_next_data\u001b[49m\u001b[43m(\u001b[49m\u001b[43m)\u001b[49m\n\u001b[0;32m    631\u001b[0m \u001b[38;5;28mself\u001b[39m\u001b[38;5;241m.\u001b[39m_num_yielded \u001b[38;5;241m+\u001b[39m\u001b[38;5;241m=\u001b[39m \u001b[38;5;241m1\u001b[39m\n\u001b[0;32m    632\u001b[0m \u001b[38;5;28;01mif\u001b[39;00m \u001b[38;5;28mself\u001b[39m\u001b[38;5;241m.\u001b[39m_dataset_kind \u001b[38;5;241m==\u001b[39m _DatasetKind\u001b[38;5;241m.\u001b[39mIterable \u001b[38;5;129;01mand\u001b[39;00m \\\n\u001b[0;32m    633\u001b[0m         \u001b[38;5;28mself\u001b[39m\u001b[38;5;241m.\u001b[39m_IterableDataset_len_called \u001b[38;5;129;01mis\u001b[39;00m \u001b[38;5;129;01mnot\u001b[39;00m \u001b[38;5;28;01mNone\u001b[39;00m \u001b[38;5;129;01mand\u001b[39;00m \\\n\u001b[0;32m    634\u001b[0m         \u001b[38;5;28mself\u001b[39m\u001b[38;5;241m.\u001b[39m_num_yielded \u001b[38;5;241m>\u001b[39m \u001b[38;5;28mself\u001b[39m\u001b[38;5;241m.\u001b[39m_IterableDataset_len_called:\n",
      "File \u001b[1;32md:\\Dev\\Gravitas-NLP\\.venv\\Lib\\site-packages\\torch\\utils\\data\\dataloader.py:674\u001b[0m, in \u001b[0;36m_SingleProcessDataLoaderIter._next_data\u001b[1;34m(self)\u001b[0m\n\u001b[0;32m    672\u001b[0m \u001b[38;5;28;01mdef\u001b[39;00m \u001b[38;5;21m_next_data\u001b[39m(\u001b[38;5;28mself\u001b[39m):\n\u001b[0;32m    673\u001b[0m     index \u001b[38;5;241m=\u001b[39m \u001b[38;5;28mself\u001b[39m\u001b[38;5;241m.\u001b[39m_next_index()  \u001b[38;5;66;03m# may raise StopIteration\u001b[39;00m\n\u001b[1;32m--> 674\u001b[0m     data \u001b[38;5;241m=\u001b[39m \u001b[38;5;28;43mself\u001b[39;49m\u001b[38;5;241;43m.\u001b[39;49m\u001b[43m_dataset_fetcher\u001b[49m\u001b[38;5;241;43m.\u001b[39;49m\u001b[43mfetch\u001b[49m\u001b[43m(\u001b[49m\u001b[43mindex\u001b[49m\u001b[43m)\u001b[49m  \u001b[38;5;66;03m# may raise StopIteration\u001b[39;00m\n\u001b[0;32m    675\u001b[0m     \u001b[38;5;28;01mif\u001b[39;00m \u001b[38;5;28mself\u001b[39m\u001b[38;5;241m.\u001b[39m_pin_memory:\n\u001b[0;32m    676\u001b[0m         data \u001b[38;5;241m=\u001b[39m _utils\u001b[38;5;241m.\u001b[39mpin_memory\u001b[38;5;241m.\u001b[39mpin_memory(data, \u001b[38;5;28mself\u001b[39m\u001b[38;5;241m.\u001b[39m_pin_memory_device)\n",
      "File \u001b[1;32md:\\Dev\\Gravitas-NLP\\.venv\\Lib\\site-packages\\torch\\utils\\data\\_utils\\fetch.py:54\u001b[0m, in \u001b[0;36m_MapDatasetFetcher.fetch\u001b[1;34m(self, possibly_batched_index)\u001b[0m\n\u001b[0;32m     52\u001b[0m \u001b[38;5;28;01melse\u001b[39;00m:\n\u001b[0;32m     53\u001b[0m     data \u001b[38;5;241m=\u001b[39m \u001b[38;5;28mself\u001b[39m\u001b[38;5;241m.\u001b[39mdataset[possibly_batched_index]\n\u001b[1;32m---> 54\u001b[0m \u001b[38;5;28;01mreturn\u001b[39;00m \u001b[38;5;28;43mself\u001b[39;49m\u001b[38;5;241;43m.\u001b[39;49m\u001b[43mcollate_fn\u001b[49m\u001b[43m(\u001b[49m\u001b[43mdata\u001b[49m\u001b[43m)\u001b[49m\n",
      "File \u001b[1;32md:\\Dev\\Gravitas-NLP\\CustomCrossEncoder.py:144\u001b[0m, in \u001b[0;36mCrossEncoder.smart_batching_collate_text_only\u001b[1;34m(self, batch)\u001b[0m\n\u001b[0;32m    135\u001b[0m tokenized \u001b[38;5;241m=\u001b[39m \u001b[38;5;28mself\u001b[39m\u001b[38;5;241m.\u001b[39mtokenizer(\n\u001b[0;32m    136\u001b[0m     \u001b[38;5;241m*\u001b[39mtexts,\n\u001b[0;32m    137\u001b[0m     padding\u001b[38;5;241m=\u001b[39m\u001b[38;5;28;01mTrue\u001b[39;00m,\n\u001b[1;32m   (...)\u001b[0m\n\u001b[0;32m    140\u001b[0m     max_length\u001b[38;5;241m=\u001b[39m\u001b[38;5;28mself\u001b[39m\u001b[38;5;241m.\u001b[39mmax_length\n\u001b[0;32m    141\u001b[0m )\n\u001b[0;32m    143\u001b[0m \u001b[38;5;28;01mfor\u001b[39;00m name \u001b[38;5;129;01min\u001b[39;00m tokenized:\n\u001b[1;32m--> 144\u001b[0m     tokenized[name] \u001b[38;5;241m=\u001b[39m \u001b[43mtokenized\u001b[49m\u001b[43m[\u001b[49m\u001b[43mname\u001b[49m\u001b[43m]\u001b[49m\u001b[38;5;241;43m.\u001b[39;49m\u001b[43mto\u001b[49m\u001b[43m(\u001b[49m\u001b[38;5;28;43mself\u001b[39;49m\u001b[38;5;241;43m.\u001b[39;49m\u001b[43m_target_device\u001b[49m\u001b[43m)\u001b[49m\n\u001b[0;32m    146\u001b[0m \u001b[38;5;28;01mreturn\u001b[39;00m tokenized\n",
      "\u001b[1;31mKeyboardInterrupt\u001b[0m: "
     ]
    }
   ],
   "source": [
    "# 5 Fold Cross Validation with (60-20-20, Train-Develop-Test split)\n",
    "kfSplits = [\n",
    "    kf.split(dataset) for (key, dataset) in datasets.items() if key != \"semeval\"\n",
    "]\n",
    "for fold, indexes in enumerate(zip(*kfSplits)):\n",
    "    model = SentenceTransformer(\"avsolatorio/GIST-Embedding-v0\")\n",
    "    model_save_path = f\"output/gist-\" + datetime.now().strftime(\"%Y-%m-%d_%H-%M-%S\")\n",
    "\n",
    "    train_datasets_list, test_datasets_list, dev_datasets_list = (\n",
    "        [np.array(datasets[\"semeval\"])],\n",
    "        [np.array(test_semeval_dataset)],\n",
    "        [np.array(dev_semeval_dataset)],\n",
    "    )\n",
    "\n",
    "    # Split each datasets into train, develop, test except \"semeval\" dataset\n",
    "    for (train_test_index, dev_index), dataset_name in zip(indexes, dataset_names):\n",
    "        train_index, test_index = train_test_split(\n",
    "            train_test_index, test_size=0.25, random_state=42\n",
    "        )\n",
    "        train_datasets_list.append(np.take(datasets[dataset_name], train_index))\n",
    "        dev_datasets_list.append(np.take(datasets[dataset_name], dev_index))\n",
    "        test_datasets_list.append(np.take(datasets[dataset_name], test_index))\n",
    "\n",
    "    train_dataset = torch.utils.data.ConcatDataset(train_datasets_list)\n",
    "    dev_dataset = torch.utils.data.ConcatDataset(dev_datasets_list)\n",
    "    test_dataset = torch.utils.data.ConcatDataset(test_datasets_list)\n",
    "\n",
    "    train_dataloader = DataLoader(\n",
    "        dataset=train_dataset,\n",
    "        batch_size=train_batch_size,\n",
    "        shuffle=True,\n",
    "    )\n",
    "\n",
    "    train_loss = losses.CosineSimilarityLoss(model=model)\n",
    "    evaluator = EmbeddingSimilarityEvaluator.from_input_examples(\n",
    "        dev_dataset, name=\"gist-dev\"\n",
    "    )\n",
    "\n",
    "    warmup_steps = math.ceil(\n",
    "        len(train_dataloader) * num_epochs * 0.1\n",
    "    )  # 10% of train data for warm-up\n",
    "\n",
    "    model.fit(\n",
    "        train_objectives=[(train_dataloader, train_loss)],\n",
    "        evaluator=evaluator,\n",
    "        epochs=num_epochs,\n",
    "        evaluation_steps=1000,\n",
    "        warmup_steps=warmup_steps,\n",
    "        output_path=model_save_path,\n",
    "    )\n",
    "\n",
    "    # model.fit(\n",
    "    #     train_dataloader=train_dataloader,\n",
    "    #     freeze=True,\n",
    "    #     evaluator=evaluator,\n",
    "    #     epochs=num_epochs,\n",
    "    #     evaluation_steps=1000,\n",
    "    #     warmup_steps=warmup_steps,\n",
    "    #     output_path=model_save_path,\n",
    "    # )\n",
    "\n",
    "    test_evaluator = EmbeddingSimilarityEvaluator.from_input_examples(\n",
    "        test_dataset, name=\"gist-test\"\n",
    "    )\n",
    "    test_evaluator(model, output_path=model_save_path)"
   ]
  },
  {
   "cell_type": "code",
   "execution_count": null,
   "metadata": {},
   "outputs": [],
   "source": [
    "# Mount Google Drive\n",
    "from google.colab import drive\n",
    "drive.mount('/content/drive')\n",
    "\n",
    "# Create a folder in the root directory\n",
    "!mkdir -p \"/content/drive/My Drive/PyTorch Models\"\n"
   ]
  }
 ],
 "metadata": {
  "kernelspec": {
   "display_name": ".venv",
   "language": "python",
   "name": "python3"
  },
  "language_info": {
   "codemirror_mode": {
    "name": "ipython",
    "version": 3
   },
   "file_extension": ".py",
   "mimetype": "text/x-python",
   "name": "python",
   "nbconvert_exporter": "python",
   "pygments_lexer": "ipython3",
   "version": "3.11.0"
  }
 },
 "nbformat": 4,
 "nbformat_minor": 2
}
